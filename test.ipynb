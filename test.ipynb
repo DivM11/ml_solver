{
 "cells": [
  {
   "cell_type": "code",
   "execution_count": 1,
   "metadata": {},
   "outputs": [
    {
     "name": "stderr",
     "output_type": "stream",
     "text": [
      "WARNING:absl:Function `_wrapped_model` contains input name(s) Freq with unsupported characters which will be renamed to freq in the SavedModel.\n"
     ]
    },
    {
     "name": "stdout",
     "output_type": "stream",
     "text": [
      "INFO:tensorflow:Assets written to: embeddings\\assets\n"
     ]
    },
    {
     "name": "stderr",
     "output_type": "stream",
     "text": [
      "INFO:tensorflow:Assets written to: embeddings\\assets\n"
     ]
    }
   ],
   "source": [
    "from basic_ml import MLExecutor\n",
    "import pandas as pd\n",
    "\n",
    "df = pd.read_excel(\"HW3.xlsx\")\n",
    "\n",
    "mle_regression = MLExecutor(\n",
    "    df,\n",
    "    target_col=\"Spending\",\n",
    "    task=\"regression\",\n",
    "    metric=\"mape\",\n",
    "    exclude_cols=[\"Purchase\",\"sequence_number\"]\n",
    ")"
   ]
  },
  {
   "cell_type": "code",
   "execution_count": 2,
   "metadata": {},
   "outputs": [
    {
     "name": "stderr",
     "output_type": "stream",
     "text": [
      "WARNING:absl:Function `_wrapped_model` contains input name(s) Freq with unsupported characters which will be renamed to freq in the SavedModel.\n"
     ]
    },
    {
     "name": "stdout",
     "output_type": "stream",
     "text": [
      "INFO:tensorflow:Assets written to: embeddings\\assets\n"
     ]
    },
    {
     "name": "stderr",
     "output_type": "stream",
     "text": [
      "INFO:tensorflow:Assets written to: embeddings\\assets\n"
     ]
    }
   ],
   "source": [
    "mle_classification = MLExecutor(\n",
    "    df,\n",
    "    target_col=\"Purchase\",\n",
    "    task=\"classification\",\n",
    "    metric=\"f1_score\",\n",
    "    exclude_cols=[\"Spending\",\"sequence_number\"]\n",
    ")"
   ]
  },
  {
   "cell_type": "code",
   "execution_count": null,
   "metadata": {},
   "outputs": [],
   "source": []
  },
  {
   "attachments": {},
   "cell_type": "markdown",
   "metadata": {},
   "source": [
    "## To Do\n",
    "### Back-end\n",
    "- Which artifacts to save?: Models, Predictions\n",
    "- What to deliver at the end? Validation results, Fitted Models, Model results\n",
    "- Refactoring\n",
    "    - ModelAssembler as dict of ModelExecutors DONE\n",
    "    - ModelAssembler as inherited DONE\n",
    "    - Remove repeated attributes\n",
    "    - Add logging\n",
    "- Modeling Variations\n",
    "    - Time based split\n",
    "    - Random split\n",
    "    - Hold out test\n",
    "- Writing Tests\n",
    "    - Test diff models\n",
    "    - Test diff validation\n",
    "    - Test classification/regression\n",
    "- Documentation (Version 1)\n",
    "    - Preprocessing supported\n",
    "    - Tasks supported\n",
    "    - Models supported\n",
    "    - Validation methods supported\n",
    "    - Model Metrics supported\n",
    "- Packaging\n",
    "- CI/CD\n",
    "\n",
    "### Front-end\n",
    "- Make -_-"
   ]
  },
  {
   "cell_type": "code",
   "execution_count": 2,
   "metadata": {},
   "outputs": [
    {
     "data": {
      "text/plain": [
       "Index(['sequence_number', 'US', 'source_a', 'source_c', 'source_b', 'source_d',\n",
       "       'source_e', 'source_m', 'source_o', 'source_h', 'source_r', 'source_s',\n",
       "       'source_t', 'source_u', 'source_p', 'source_x', 'source_w', 'Freq',\n",
       "       'last_update_days_ago', '1st_update_days_ago', 'Web order',\n",
       "       'Gender=male', 'Address_is_res', 'Purchase', 'Spending'],\n",
       "      dtype='object')"
      ]
     },
     "execution_count": 2,
     "metadata": {},
     "output_type": "execute_result"
    }
   ],
   "source": [
    "df.columns"
   ]
  },
  {
   "cell_type": "code",
   "execution_count": null,
   "metadata": {},
   "outputs": [],
   "source": []
  }
 ],
 "metadata": {
  "kernelspec": {
   "display_name": "Python 3",
   "language": "python",
   "name": "python3"
  },
  "language_info": {
   "codemirror_mode": {
    "name": "ipython",
    "version": 3
   },
   "file_extension": ".py",
   "mimetype": "text/x-python",
   "name": "python",
   "nbconvert_exporter": "python",
   "pygments_lexer": "ipython3",
   "version": "3.10.5 (tags/v3.10.5:f377153, Jun  6 2022, 16:14:13) [MSC v.1929 64 bit (AMD64)]"
  },
  "orig_nbformat": 4,
  "vscode": {
   "interpreter": {
    "hash": "5290aa75faf23a16319909e19adc2cd8a2a5bf93f1976f81386266c3c2bf7942"
   }
  }
 },
 "nbformat": 4,
 "nbformat_minor": 2
}
